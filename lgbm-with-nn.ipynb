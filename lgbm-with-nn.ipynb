{
 "cells": [
  {
   "cell_type": "markdown",
   "id": "fc672875",
   "metadata": {
    "papermill": {
     "duration": 0.004717,
     "end_time": "2023-12-02T22:43:48.131716",
     "exception": false,
     "start_time": "2023-12-02T22:43:48.126999",
     "status": "completed"
    },
    "tags": []
   },
   "source": [
    "# LGBM Prefit with NN\n",
    "* Based on https://www.kaggle.com/code/enricomanosperti/regression-with-a-mohs-hardness-dataset\n",
    "* Interesting that this increases public lb score, but my feel is that it will overfit on private lb.\n"
   ]
  },
  {
   "cell_type": "code",
   "execution_count": 1,
   "id": "d5762eb7",
   "metadata": {
    "_cell_guid": "b1076dfc-b9ad-4769-8c92-a6c4dae69d19",
    "_uuid": "8f2839f25d086af736a60e9eeb907d3b93b6e0e5",
    "execution": {
     "iopub.execute_input": "2023-12-02T22:43:48.144375Z",
     "iopub.status.busy": "2023-12-02T22:43:48.143873Z",
     "iopub.status.idle": "2023-12-02T22:44:05.912054Z",
     "shell.execute_reply": "2023-12-02T22:44:05.911047Z"
    },
    "papermill": {
     "duration": 17.776559,
     "end_time": "2023-12-02T22:44:05.914637",
     "exception": false,
     "start_time": "2023-12-02T22:43:48.138078",
     "status": "completed"
    },
    "tags": []
   },
   "outputs": [],
   "source": [
    "import numpy as np \n",
    "import pandas as pd\n",
    "import matplotlib.pyplot as plt\n",
    "import seaborn as sns\n",
    "\n",
    "from lightgbm import LGBMRegressor\n",
    "from xgboost import XGBRegressor\n",
    "from catboost import CatBoostRegressor\n",
    "from sklearn.ensemble import VotingRegressor\n",
    "from sklearn.model_selection import train_test_split\n",
    "from sklearn.metrics import median_absolute_error\n",
    "import tensorflow as tf\n",
    "import tensorflow_decision_forests as tfdf\n",
    "import tensorflow_probability as tfp\n"
   ]
  },
  {
   "cell_type": "code",
   "execution_count": 2,
   "id": "9ffe684c",
   "metadata": {
    "execution": {
     "iopub.execute_input": "2023-12-02T22:44:05.925038Z",
     "iopub.status.busy": "2023-12-02T22:44:05.924329Z",
     "iopub.status.idle": "2023-12-02T22:44:05.929286Z",
     "shell.execute_reply": "2023-12-02T22:44:05.928244Z"
    },
    "papermill": {
     "duration": 0.01254,
     "end_time": "2023-12-02T22:44:05.931541",
     "exception": false,
     "start_time": "2023-12-02T22:44:05.919001",
     "status": "completed"
    },
    "tags": []
   },
   "outputs": [],
   "source": [
    "class Config():\n",
    "    seed = 12\n",
    "    folds = 5\n",
    "    \n",
    "config=Config()"
   ]
  },
  {
   "cell_type": "code",
   "execution_count": 3,
   "id": "c5df22ea",
   "metadata": {
    "execution": {
     "iopub.execute_input": "2023-12-02T22:44:05.940994Z",
     "iopub.status.busy": "2023-12-02T22:44:05.940640Z",
     "iopub.status.idle": "2023-12-02T22:44:06.027059Z",
     "shell.execute_reply": "2023-12-02T22:44:06.025931Z"
    },
    "papermill": {
     "duration": 0.094001,
     "end_time": "2023-12-02T22:44:06.029665",
     "exception": false,
     "start_time": "2023-12-02T22:44:05.935664",
     "status": "completed"
    },
    "tags": []
   },
   "outputs": [],
   "source": [
    "train = pd.read_csv(\"/kaggle/input/playground-series-s3e25/train.csv\")\n",
    "test = pd.read_csv(\"/kaggle/input/playground-series-s3e25/test.csv\")\n",
    "ss = pd.read_csv('/kaggle/input/playground-series-s3e25/sample_submission.csv')"
   ]
  },
  {
   "cell_type": "code",
   "execution_count": 4,
   "id": "4a600123",
   "metadata": {
    "execution": {
     "iopub.execute_input": "2023-12-02T22:44:06.040069Z",
     "iopub.status.busy": "2023-12-02T22:44:06.039683Z",
     "iopub.status.idle": "2023-12-02T22:44:06.044759Z",
     "shell.execute_reply": "2023-12-02T22:44:06.043590Z"
    },
    "papermill": {
     "duration": 0.012751,
     "end_time": "2023-12-02T22:44:06.046803",
     "exception": false,
     "start_time": "2023-12-02T22:44:06.034052",
     "status": "completed"
    },
    "tags": []
   },
   "outputs": [],
   "source": [
    "features = [col for col in train.columns if 'id' not in col]"
   ]
  },
  {
   "cell_type": "code",
   "execution_count": 5,
   "id": "1dda766d",
   "metadata": {
    "execution": {
     "iopub.execute_input": "2023-12-02T22:44:06.057080Z",
     "iopub.status.busy": "2023-12-02T22:44:06.056423Z",
     "iopub.status.idle": "2023-12-02T22:44:06.078125Z",
     "shell.execute_reply": "2023-12-02T22:44:06.076933Z"
    },
    "papermill": {
     "duration": 0.029827,
     "end_time": "2023-12-02T22:44:06.080811",
     "exception": false,
     "start_time": "2023-12-02T22:44:06.050984",
     "status": "completed"
    },
    "tags": []
   },
   "outputs": [],
   "source": [
    "X = train[features].drop(columns='Hardness')\n",
    "y = train.Hardness"
   ]
  },
  {
   "cell_type": "code",
   "execution_count": 6,
   "id": "a2686c5c",
   "metadata": {
    "execution": {
     "iopub.execute_input": "2023-12-02T22:44:06.091270Z",
     "iopub.status.busy": "2023-12-02T22:44:06.090729Z",
     "iopub.status.idle": "2023-12-02T22:44:06.830168Z",
     "shell.execute_reply": "2023-12-02T22:44:06.828977Z"
    },
    "papermill": {
     "duration": 0.747574,
     "end_time": "2023-12-02T22:44:06.832872",
     "exception": false,
     "start_time": "2023-12-02T22:44:06.085298",
     "status": "completed"
    },
    "tags": []
   },
   "outputs": [],
   "source": [
    "model_lgbm = LGBMRegressor(objective='mae',\n",
    "                        learning_rate=.15,\n",
    "                        min_child_samples=50,\n",
    "                        random_state=config.seed)\n",
    "model_lgbm.fit(X,y)\n",
    "X_new = X.copy()\n",
    "X_new['Hardness_pred'] = model_lgbm.predict(X)"
   ]
  },
  {
   "cell_type": "code",
   "execution_count": 7,
   "id": "7d4e8646",
   "metadata": {
    "execution": {
     "iopub.execute_input": "2023-12-02T22:44:06.843400Z",
     "iopub.status.busy": "2023-12-02T22:44:06.842958Z",
     "iopub.status.idle": "2023-12-02T22:44:06.851096Z",
     "shell.execute_reply": "2023-12-02T22:44:06.850144Z"
    },
    "papermill": {
     "duration": 0.016026,
     "end_time": "2023-12-02T22:44:06.853367",
     "exception": false,
     "start_time": "2023-12-02T22:44:06.837341",
     "status": "completed"
    },
    "tags": []
   },
   "outputs": [],
   "source": [
    "def loss_fn(y_true, y_pred):\n",
    "    return tfp.stats.percentile(tf.abs(y_true - y_pred), q=50)\n",
    "def metric_fn(y_true, y_pred):\n",
    "    return tfp.stats.percentile(tf.abs(y_true - y_pred), q=100) - tfp.stats.percentile(tf.abs(y_true - y_pred), q=0)"
   ]
  },
  {
   "cell_type": "code",
   "execution_count": 8,
   "id": "afc0dd09",
   "metadata": {
    "execution": {
     "iopub.execute_input": "2023-12-02T22:44:06.863724Z",
     "iopub.status.busy": "2023-12-02T22:44:06.863321Z",
     "iopub.status.idle": "2023-12-02T22:44:06.869018Z",
     "shell.execute_reply": "2023-12-02T22:44:06.867963Z"
    },
    "papermill": {
     "duration": 0.013285,
     "end_time": "2023-12-02T22:44:06.871024",
     "exception": false,
     "start_time": "2023-12-02T22:44:06.857739",
     "status": "completed"
    },
    "tags": []
   },
   "outputs": [],
   "source": [
    "callbacks_list = [\n",
    "    tf.keras.callbacks.EarlyStopping(monitor='val_loss', patience=30, verbose=2, mode='min',restore_best_weights=True),\n",
    "    tf.keras.callbacks.ReduceLROnPlateau(monitor='val_loss', factor=0.8, patience=3, min_lr=0.00001),\n",
    "    tf.keras.callbacks.TerminateOnNaN()\n",
    "] "
   ]
  },
  {
   "cell_type": "code",
   "execution_count": 9,
   "id": "e9337284",
   "metadata": {
    "execution": {
     "iopub.execute_input": "2023-12-02T22:44:06.882030Z",
     "iopub.status.busy": "2023-12-02T22:44:06.881401Z",
     "iopub.status.idle": "2023-12-02T22:44:06.888864Z",
     "shell.execute_reply": "2023-12-02T22:44:06.887598Z"
    },
    "papermill": {
     "duration": 0.015533,
     "end_time": "2023-12-02T22:44:06.891159",
     "exception": false,
     "start_time": "2023-12-02T22:44:06.875626",
     "status": "completed"
    },
    "tags": []
   },
   "outputs": [],
   "source": [
    "def createModel():\n",
    "    nnmodel = tf.keras.models.Sequential()\n",
    "    nnmodel.add(tf.keras.layers.InputLayer(input_shape=(12,)))\n",
    "    nnmodel.add(tf.keras.layers.BatchNormalization(epsilon=0.00001))\n",
    "    nnmodel.add(tf.keras.layers.Dense(32, activation='relu'))\n",
    "    nnmodel.add(tf.keras.layers.Dense(64, activation='relu'))\n",
    "    nnmodel.add(tf.keras.layers.Dense(1))\n",
    "    nnmodel.compile(optimizer=tf.keras.optimizers.Adam(0.013, beta_1=0.5),loss=loss_fn,metrics=metric_fn)\n",
    "    return nnmodel"
   ]
  },
  {
   "cell_type": "code",
   "execution_count": 10,
   "id": "a212e726",
   "metadata": {
    "execution": {
     "iopub.execute_input": "2023-12-02T22:44:06.901714Z",
     "iopub.status.busy": "2023-12-02T22:44:06.901038Z",
     "iopub.status.idle": "2023-12-02T22:45:30.694849Z",
     "shell.execute_reply": "2023-12-02T22:45:30.693903Z"
    },
    "papermill": {
     "duration": 83.801969,
     "end_time": "2023-12-02T22:45:30.697422",
     "exception": false,
     "start_time": "2023-12-02T22:44:06.895453",
     "status": "completed"
    },
    "tags": []
   },
   "outputs": [
    {
     "name": "stdout",
     "output_type": "stream",
     "text": [
      "Model: \"sequential\"\n",
      "_________________________________________________________________\n",
      " Layer (type)                Output Shape              Param #   \n",
      "=================================================================\n",
      " batch_normalization (Batch  (None, 12)                48        \n",
      " Normalization)                                                  \n",
      "                                                                 \n",
      " dense (Dense)               (None, 32)                416       \n",
      "                                                                 \n",
      " dense_1 (Dense)             (None, 64)                2112      \n",
      "                                                                 \n",
      " dense_2 (Dense)             (None, 1)                 65        \n",
      "                                                                 \n",
      "=================================================================\n",
      "Total params: 2641 (10.32 KB)\n",
      "Trainable params: 2617 (10.22 KB)\n",
      "Non-trainable params: 24 (96.00 Byte)\n",
      "_________________________________________________________________\n",
      "Epoch 1/100\n",
      "261/261 [==============================] - 3s 4ms/step - loss: 1.4696 - metric_fn: 6.7668 - val_loss: 1.0278 - val_metric_fn: 5.2392 - lr: 0.0130\n",
      "Epoch 2/100\n",
      "261/261 [==============================] - 1s 2ms/step - loss: 0.9015 - metric_fn: 5.0811 - val_loss: 0.5971 - val_metric_fn: 3.5653 - lr: 0.0130\n",
      "Epoch 3/100\n",
      "261/261 [==============================] - 1s 2ms/step - loss: 0.7399 - metric_fn: 3.4879 - val_loss: 0.4880 - val_metric_fn: 3.4390 - lr: 0.0130\n",
      "Epoch 4/100\n",
      "261/261 [==============================] - 1s 2ms/step - loss: 0.6835 - metric_fn: 3.4231 - val_loss: 0.5253 - val_metric_fn: 3.4001 - lr: 0.0130\n",
      "Epoch 5/100\n",
      "261/261 [==============================] - 1s 2ms/step - loss: 0.6264 - metric_fn: 3.3910 - val_loss: 0.7917 - val_metric_fn: 3.6584 - lr: 0.0130\n",
      "Epoch 6/100\n",
      "261/261 [==============================] - 1s 2ms/step - loss: 0.5993 - metric_fn: 3.3905 - val_loss: 0.4790 - val_metric_fn: 3.3578 - lr: 0.0130\n",
      "Epoch 7/100\n",
      "261/261 [==============================] - 1s 2ms/step - loss: 0.6003 - metric_fn: 3.4204 - val_loss: 0.7124 - val_metric_fn: 3.3757 - lr: 0.0130\n",
      "Epoch 8/100\n",
      "261/261 [==============================] - 1s 2ms/step - loss: 0.5724 - metric_fn: 3.5405 - val_loss: 0.4686 - val_metric_fn: 3.4042 - lr: 0.0130\n",
      "Epoch 9/100\n",
      "261/261 [==============================] - 1s 2ms/step - loss: 0.5522 - metric_fn: 3.5110 - val_loss: 0.5019 - val_metric_fn: 3.5266 - lr: 0.0130\n",
      "Epoch 10/100\n",
      "261/261 [==============================] - 1s 2ms/step - loss: 0.5414 - metric_fn: 3.4187 - val_loss: 0.5039 - val_metric_fn: 3.3959 - lr: 0.0130\n",
      "Epoch 11/100\n",
      "261/261 [==============================] - 1s 2ms/step - loss: 0.5321 - metric_fn: 3.4379 - val_loss: 0.5257 - val_metric_fn: 3.5104 - lr: 0.0130\n",
      "Epoch 12/100\n",
      "261/261 [==============================] - 1s 2ms/step - loss: 0.5451 - metric_fn: 3.4994 - val_loss: 0.4830 - val_metric_fn: 3.5750 - lr: 0.0104\n",
      "Epoch 13/100\n",
      "261/261 [==============================] - 1s 2ms/step - loss: 0.5311 - metric_fn: 3.4280 - val_loss: 0.4939 - val_metric_fn: 3.5626 - lr: 0.0104\n",
      "Epoch 14/100\n",
      "261/261 [==============================] - 1s 2ms/step - loss: 0.5335 - metric_fn: 3.4830 - val_loss: 0.5572 - val_metric_fn: 3.5181 - lr: 0.0104\n",
      "Epoch 15/100\n",
      "261/261 [==============================] - 1s 2ms/step - loss: 0.5271 - metric_fn: 3.4641 - val_loss: 0.4557 - val_metric_fn: 3.5362 - lr: 0.0083\n",
      "Epoch 16/100\n",
      "261/261 [==============================] - 1s 2ms/step - loss: 0.5263 - metric_fn: 3.4169 - val_loss: 0.4417 - val_metric_fn: 3.4828 - lr: 0.0083\n",
      "Epoch 17/100\n",
      "261/261 [==============================] - 1s 2ms/step - loss: 0.5050 - metric_fn: 3.4261 - val_loss: 0.4637 - val_metric_fn: 3.4702 - lr: 0.0083\n",
      "Epoch 18/100\n",
      "261/261 [==============================] - 1s 2ms/step - loss: 0.5300 - metric_fn: 3.5184 - val_loss: 0.4627 - val_metric_fn: 3.6004 - lr: 0.0083\n",
      "Epoch 19/100\n",
      "261/261 [==============================] - 1s 2ms/step - loss: 0.5122 - metric_fn: 3.4851 - val_loss: 0.4675 - val_metric_fn: 3.6085 - lr: 0.0083\n",
      "Epoch 20/100\n",
      "261/261 [==============================] - 1s 2ms/step - loss: 0.5163 - metric_fn: 3.5730 - val_loss: 0.5056 - val_metric_fn: 3.6105 - lr: 0.0067\n",
      "Epoch 21/100\n",
      "261/261 [==============================] - 1s 2ms/step - loss: 0.5240 - metric_fn: 3.6095 - val_loss: 0.4919 - val_metric_fn: 3.7213 - lr: 0.0067\n",
      "Epoch 22/100\n",
      "261/261 [==============================] - 1s 2ms/step - loss: 0.5267 - metric_fn: 3.6133 - val_loss: 0.4699 - val_metric_fn: 3.5922 - lr: 0.0067\n",
      "Epoch 23/100\n",
      "261/261 [==============================] - 1s 2ms/step - loss: 0.5136 - metric_fn: 3.5360 - val_loss: 0.5061 - val_metric_fn: 3.4715 - lr: 0.0053\n",
      "Epoch 24/100\n",
      "261/261 [==============================] - 1s 2ms/step - loss: 0.4887 - metric_fn: 3.5023 - val_loss: 0.4880 - val_metric_fn: 3.6805 - lr: 0.0053\n",
      "Epoch 25/100\n",
      "261/261 [==============================] - 1s 2ms/step - loss: 0.4942 - metric_fn: 3.5185 - val_loss: 0.4473 - val_metric_fn: 3.5998 - lr: 0.0053\n",
      "Epoch 26/100\n",
      "261/261 [==============================] - 1s 2ms/step - loss: 0.4815 - metric_fn: 3.4709 - val_loss: 0.4263 - val_metric_fn: 3.5616 - lr: 0.0043\n",
      "Epoch 27/100\n",
      "261/261 [==============================] - 1s 2ms/step - loss: 0.4817 - metric_fn: 3.4796 - val_loss: 0.4468 - val_metric_fn: 3.5770 - lr: 0.0043\n",
      "Epoch 28/100\n",
      "261/261 [==============================] - 1s 2ms/step - loss: 0.4826 - metric_fn: 3.4310 - val_loss: 0.4613 - val_metric_fn: 3.4950 - lr: 0.0043\n",
      "Epoch 29/100\n",
      "261/261 [==============================] - 1s 2ms/step - loss: 0.4777 - metric_fn: 3.4486 - val_loss: 0.4532 - val_metric_fn: 3.5821 - lr: 0.0043\n",
      "Epoch 30/100\n",
      "261/261 [==============================] - 1s 2ms/step - loss: 0.4766 - metric_fn: 3.3839 - val_loss: 0.4299 - val_metric_fn: 3.4960 - lr: 0.0034\n",
      "Epoch 31/100\n",
      "261/261 [==============================] - 1s 2ms/step - loss: 0.4883 - metric_fn: 3.4004 - val_loss: 0.4376 - val_metric_fn: 3.5464 - lr: 0.0034\n",
      "Epoch 32/100\n",
      "261/261 [==============================] - 1s 2ms/step - loss: 0.4794 - metric_fn: 3.3307 - val_loss: 0.4569 - val_metric_fn: 3.4420 - lr: 0.0034\n",
      "Epoch 33/100\n",
      "261/261 [==============================] - 1s 2ms/step - loss: 0.4814 - metric_fn: 3.3687 - val_loss: 0.4196 - val_metric_fn: 3.4777 - lr: 0.0027\n",
      "Epoch 34/100\n",
      "261/261 [==============================] - 1s 2ms/step - loss: 0.4719 - metric_fn: 3.3754 - val_loss: 0.4294 - val_metric_fn: 3.5014 - lr: 0.0027\n",
      "Epoch 35/100\n",
      "261/261 [==============================] - 1s 2ms/step - loss: 0.4760 - metric_fn: 3.4301 - val_loss: 0.4355 - val_metric_fn: 3.5361 - lr: 0.0027\n",
      "Epoch 36/100\n",
      "261/261 [==============================] - 1s 2ms/step - loss: 0.4755 - metric_fn: 3.4672 - val_loss: 0.4223 - val_metric_fn: 3.5375 - lr: 0.0027\n",
      "Epoch 37/100\n",
      "261/261 [==============================] - 1s 2ms/step - loss: 0.4669 - metric_fn: 3.4031 - val_loss: 0.4383 - val_metric_fn: 3.5832 - lr: 0.0022\n",
      "Epoch 38/100\n",
      "261/261 [==============================] - 1s 2ms/step - loss: 0.4657 - metric_fn: 3.4199 - val_loss: 0.4191 - val_metric_fn: 3.5737 - lr: 0.0022\n",
      "Epoch 39/100\n",
      "261/261 [==============================] - 1s 2ms/step - loss: 0.4598 - metric_fn: 3.4460 - val_loss: 0.4164 - val_metric_fn: 3.4991 - lr: 0.0022\n",
      "Epoch 40/100\n",
      "261/261 [==============================] - 1s 2ms/step - loss: 0.4665 - metric_fn: 3.4696 - val_loss: 0.4123 - val_metric_fn: 3.5229 - lr: 0.0022\n",
      "Epoch 41/100\n",
      "261/261 [==============================] - 1s 2ms/step - loss: 0.4610 - metric_fn: 3.4390 - val_loss: 0.4273 - val_metric_fn: 3.5686 - lr: 0.0022\n",
      "Epoch 42/100\n",
      "261/261 [==============================] - 1s 2ms/step - loss: 0.4712 - metric_fn: 3.4034 - val_loss: 0.4128 - val_metric_fn: 3.5433 - lr: 0.0022\n",
      "Epoch 43/100\n",
      "261/261 [==============================] - 1s 2ms/step - loss: 0.4621 - metric_fn: 3.4471 - val_loss: 0.4418 - val_metric_fn: 3.5175 - lr: 0.0022\n",
      "Epoch 44/100\n",
      "261/261 [==============================] - 1s 2ms/step - loss: 0.4648 - metric_fn: 3.3873 - val_loss: 0.4122 - val_metric_fn: 3.5297 - lr: 0.0017\n",
      "Epoch 45/100\n",
      "261/261 [==============================] - 1s 2ms/step - loss: 0.4655 - metric_fn: 3.4204 - val_loss: 0.4147 - val_metric_fn: 3.5167 - lr: 0.0017\n",
      "Epoch 46/100\n",
      "261/261 [==============================] - 1s 2ms/step - loss: 0.4494 - metric_fn: 3.4201 - val_loss: 0.4138 - val_metric_fn: 3.4884 - lr: 0.0017\n",
      "Epoch 47/100\n",
      "261/261 [==============================] - 1s 2ms/step - loss: 0.4604 - metric_fn: 3.3921 - val_loss: 0.4160 - val_metric_fn: 3.4910 - lr: 0.0017\n",
      "Epoch 48/100\n",
      "261/261 [==============================] - 1s 2ms/step - loss: 0.4471 - metric_fn: 3.4105 - val_loss: 0.4088 - val_metric_fn: 3.5433 - lr: 0.0014\n",
      "Epoch 49/100\n",
      "261/261 [==============================] - 1s 2ms/step - loss: 0.4459 - metric_fn: 3.4287 - val_loss: 0.4094 - val_metric_fn: 3.5185 - lr: 0.0014\n",
      "Epoch 50/100\n",
      "261/261 [==============================] - 1s 2ms/step - loss: 0.4543 - metric_fn: 3.4074 - val_loss: 0.4113 - val_metric_fn: 3.5110 - lr: 0.0014\n",
      "Epoch 51/100\n",
      "261/261 [==============================] - 1s 2ms/step - loss: 0.4467 - metric_fn: 3.4631 - val_loss: 0.4150 - val_metric_fn: 3.5334 - lr: 0.0014\n",
      "Epoch 52/100\n",
      "261/261 [==============================] - 1s 2ms/step - loss: 0.4510 - metric_fn: 3.3860 - val_loss: 0.4180 - val_metric_fn: 3.4979 - lr: 0.0011\n",
      "Epoch 53/100\n",
      "261/261 [==============================] - 1s 2ms/step - loss: 0.4450 - metric_fn: 3.4450 - val_loss: 0.4158 - val_metric_fn: 3.5042 - lr: 0.0011\n",
      "Epoch 54/100\n",
      "261/261 [==============================] - 1s 3ms/step - loss: 0.4518 - metric_fn: 3.4013 - val_loss: 0.4075 - val_metric_fn: 3.5691 - lr: 0.0011\n",
      "Epoch 55/100\n",
      "261/261 [==============================] - 1s 2ms/step - loss: 0.4481 - metric_fn: 3.4889 - val_loss: 0.4088 - val_metric_fn: 3.5658 - lr: 0.0011\n",
      "Epoch 56/100\n",
      "261/261 [==============================] - 1s 2ms/step - loss: 0.4499 - metric_fn: 3.4487 - val_loss: 0.4095 - val_metric_fn: 3.5601 - lr: 0.0011\n",
      "Epoch 57/100\n",
      "261/261 [==============================] - 1s 2ms/step - loss: 0.4543 - metric_fn: 3.4046 - val_loss: 0.4183 - val_metric_fn: 3.5451 - lr: 0.0011\n",
      "Epoch 58/100\n",
      "261/261 [==============================] - 1s 3ms/step - loss: 0.4430 - metric_fn: 3.4684 - val_loss: 0.4192 - val_metric_fn: 3.5642 - lr: 8.9335e-04\n",
      "Epoch 59/100\n",
      "261/261 [==============================] - 1s 3ms/step - loss: 0.4580 - metric_fn: 3.4316 - val_loss: 0.4189 - val_metric_fn: 3.5730 - lr: 8.9335e-04\n",
      "Epoch 60/100\n",
      "261/261 [==============================] - 1s 2ms/step - loss: 0.4520 - metric_fn: 3.4557 - val_loss: 0.4159 - val_metric_fn: 3.5430 - lr: 8.9335e-04\n",
      "Epoch 61/100\n",
      "261/261 [==============================] - 1s 2ms/step - loss: 0.4436 - metric_fn: 3.4338 - val_loss: 0.4200 - val_metric_fn: 3.5578 - lr: 7.1468e-04\n",
      "Epoch 62/100\n",
      "261/261 [==============================] - 1s 2ms/step - loss: 0.4463 - metric_fn: 3.3908 - val_loss: 0.4118 - val_metric_fn: 3.5561 - lr: 7.1468e-04\n",
      "Epoch 63/100\n",
      "261/261 [==============================] - 1s 2ms/step - loss: 0.4476 - metric_fn: 3.4425 - val_loss: 0.4144 - val_metric_fn: 3.5299 - lr: 7.1468e-04\n",
      "Epoch 64/100\n",
      "261/261 [==============================] - 1s 2ms/step - loss: 0.4473 - metric_fn: 3.4319 - val_loss: 0.4049 - val_metric_fn: 3.5371 - lr: 5.7175e-04\n",
      "Epoch 65/100\n",
      "261/261 [==============================] - 1s 2ms/step - loss: 0.4467 - metric_fn: 3.4207 - val_loss: 0.4202 - val_metric_fn: 3.5404 - lr: 5.7175e-04\n",
      "Epoch 66/100\n",
      "261/261 [==============================] - 1s 2ms/step - loss: 0.4428 - metric_fn: 3.4300 - val_loss: 0.4075 - val_metric_fn: 3.5148 - lr: 5.7175e-04\n",
      "Epoch 67/100\n",
      "261/261 [==============================] - 1s 2ms/step - loss: 0.4377 - metric_fn: 3.4150 - val_loss: 0.4132 - val_metric_fn: 3.5278 - lr: 5.7175e-04\n",
      "Epoch 68/100\n",
      "261/261 [==============================] - 1s 2ms/step - loss: 0.4397 - metric_fn: 3.4028 - val_loss: 0.4061 - val_metric_fn: 3.5457 - lr: 4.5740e-04\n",
      "Epoch 69/100\n",
      "261/261 [==============================] - 1s 2ms/step - loss: 0.4389 - metric_fn: 3.4661 - val_loss: 0.4045 - val_metric_fn: 3.5303 - lr: 4.5740e-04\n",
      "Epoch 70/100\n",
      "261/261 [==============================] - 1s 2ms/step - loss: 0.4417 - metric_fn: 3.4116 - val_loss: 0.4122 - val_metric_fn: 3.5368 - lr: 4.5740e-04\n",
      "Epoch 71/100\n",
      "261/261 [==============================] - 1s 2ms/step - loss: 0.4449 - metric_fn: 3.4207 - val_loss: 0.4103 - val_metric_fn: 3.5395 - lr: 4.5740e-04\n",
      "Epoch 72/100\n",
      "261/261 [==============================] - 1s 2ms/step - loss: 0.4353 - metric_fn: 3.4093 - val_loss: 0.4059 - val_metric_fn: 3.5407 - lr: 4.5740e-04\n",
      "Epoch 73/100\n",
      "261/261 [==============================] - 1s 2ms/step - loss: 0.4368 - metric_fn: 3.4130 - val_loss: 0.4082 - val_metric_fn: 3.5294 - lr: 3.6592e-04\n",
      "Epoch 74/100\n",
      "261/261 [==============================] - 1s 2ms/step - loss: 0.4393 - metric_fn: 3.3924 - val_loss: 0.4113 - val_metric_fn: 3.5392 - lr: 3.6592e-04\n",
      "Epoch 75/100\n",
      "261/261 [==============================] - 1s 2ms/step - loss: 0.4388 - metric_fn: 3.4148 - val_loss: 0.4094 - val_metric_fn: 3.5445 - lr: 3.6592e-04\n",
      "Epoch 76/100\n",
      "261/261 [==============================] - 1s 2ms/step - loss: 0.4402 - metric_fn: 3.4377 - val_loss: 0.4051 - val_metric_fn: 3.5511 - lr: 2.9273e-04\n",
      "Epoch 77/100\n",
      "261/261 [==============================] - 1s 2ms/step - loss: 0.4333 - metric_fn: 3.4385 - val_loss: 0.4065 - val_metric_fn: 3.5511 - lr: 2.9273e-04\n",
      "Epoch 78/100\n",
      "261/261 [==============================] - 1s 2ms/step - loss: 0.4324 - metric_fn: 3.4012 - val_loss: 0.4050 - val_metric_fn: 3.5303 - lr: 2.9273e-04\n",
      "Epoch 79/100\n",
      "261/261 [==============================] - 1s 2ms/step - loss: 0.4304 - metric_fn: 3.4427 - val_loss: 0.4044 - val_metric_fn: 3.5464 - lr: 2.3419e-04\n",
      "Epoch 80/100\n",
      "261/261 [==============================] - 1s 2ms/step - loss: 0.4372 - metric_fn: 3.4193 - val_loss: 0.4037 - val_metric_fn: 3.5476 - lr: 2.3419e-04\n",
      "Epoch 81/100\n",
      "261/261 [==============================] - 1s 2ms/step - loss: 0.4325 - metric_fn: 3.4488 - val_loss: 0.4040 - val_metric_fn: 3.5357 - lr: 2.3419e-04\n",
      "Epoch 82/100\n",
      "261/261 [==============================] - 1s 2ms/step - loss: 0.4313 - metric_fn: 3.4232 - val_loss: 0.4059 - val_metric_fn: 3.5375 - lr: 2.3419e-04\n",
      "Epoch 83/100\n",
      "261/261 [==============================] - 1s 2ms/step - loss: 0.4348 - metric_fn: 3.4248 - val_loss: 0.4128 - val_metric_fn: 3.5192 - lr: 2.3419e-04\n",
      "Epoch 84/100\n",
      "261/261 [==============================] - 1s 2ms/step - loss: 0.4348 - metric_fn: 3.4291 - val_loss: 0.4076 - val_metric_fn: 3.5349 - lr: 1.8735e-04\n",
      "Epoch 85/100\n",
      "261/261 [==============================] - 1s 2ms/step - loss: 0.4442 - metric_fn: 3.3787 - val_loss: 0.4054 - val_metric_fn: 3.5402 - lr: 1.8735e-04\n",
      "Epoch 86/100\n",
      "261/261 [==============================] - 1s 2ms/step - loss: 0.4471 - metric_fn: 3.4097 - val_loss: 0.4035 - val_metric_fn: 3.5414 - lr: 1.8735e-04\n",
      "Epoch 87/100\n",
      "261/261 [==============================] - 1s 2ms/step - loss: 0.4367 - metric_fn: 3.4375 - val_loss: 0.4063 - val_metric_fn: 3.5586 - lr: 1.8735e-04\n",
      "Epoch 88/100\n",
      "261/261 [==============================] - 1s 2ms/step - loss: 0.4547 - metric_fn: 3.4915 - val_loss: 0.4040 - val_metric_fn: 3.5463 - lr: 1.8735e-04\n",
      "Epoch 89/100\n",
      "261/261 [==============================] - 1s 2ms/step - loss: 0.4320 - metric_fn: 3.4183 - val_loss: 0.4046 - val_metric_fn: 3.5452 - lr: 1.8735e-04\n",
      "Epoch 90/100\n",
      "261/261 [==============================] - 1s 2ms/step - loss: 0.4471 - metric_fn: 3.4554 - val_loss: 0.4035 - val_metric_fn: 3.5496 - lr: 1.4988e-04\n",
      "Epoch 91/100\n",
      "261/261 [==============================] - 1s 2ms/step - loss: 0.4358 - metric_fn: 3.4456 - val_loss: 0.4061 - val_metric_fn: 3.5396 - lr: 1.4988e-04\n",
      "Epoch 92/100\n",
      "261/261 [==============================] - 1s 3ms/step - loss: 0.4418 - metric_fn: 3.4120 - val_loss: 0.4063 - val_metric_fn: 3.5442 - lr: 1.4988e-04\n",
      "Epoch 93/100\n",
      "261/261 [==============================] - 1s 2ms/step - loss: 0.4335 - metric_fn: 3.4166 - val_loss: 0.4075 - val_metric_fn: 3.5346 - lr: 1.1990e-04\n",
      "Epoch 94/100\n",
      "261/261 [==============================] - 1s 2ms/step - loss: 0.4393 - metric_fn: 3.4295 - val_loss: 0.4070 - val_metric_fn: 3.5351 - lr: 1.1990e-04\n",
      "Epoch 95/100\n",
      "261/261 [==============================] - 1s 2ms/step - loss: 0.4432 - metric_fn: 3.4660 - val_loss: 0.4060 - val_metric_fn: 3.5397 - lr: 1.1990e-04\n",
      "Epoch 96/100\n",
      "261/261 [==============================] - 1s 2ms/step - loss: 0.4308 - metric_fn: 3.4482 - val_loss: 0.4047 - val_metric_fn: 3.5466 - lr: 9.5923e-05\n",
      "Epoch 97/100\n",
      "261/261 [==============================] - 1s 2ms/step - loss: 0.4373 - metric_fn: 3.4071 - val_loss: 0.4058 - val_metric_fn: 3.5398 - lr: 9.5923e-05\n",
      "Epoch 98/100\n",
      "261/261 [==============================] - 1s 2ms/step - loss: 0.4361 - metric_fn: 3.4452 - val_loss: 0.4049 - val_metric_fn: 3.5419 - lr: 9.5923e-05\n",
      "Epoch 99/100\n",
      "261/261 [==============================] - 1s 2ms/step - loss: 0.4341 - metric_fn: 3.4198 - val_loss: 0.4051 - val_metric_fn: 3.5406 - lr: 7.6738e-05\n",
      "Epoch 100/100\n",
      "261/261 [==============================] - 1s 2ms/step - loss: 0.4330 - metric_fn: 3.4288 - val_loss: 0.4044 - val_metric_fn: 3.5449 - lr: 7.6738e-05\n"
     ]
    }
   ],
   "source": [
    "model_nn = createModel()\n",
    "model_nn.summary()\n",
    "history = model_nn.fit(X_new.astype('float32'), y.astype('float32'),\n",
    "                    epochs=100,\n",
    "                    class_weight=model_lgbm.class_weight,\n",
    "                    callbacks=callbacks_list,\n",
    "                    validation_split=0.2)"
   ]
  },
  {
   "cell_type": "code",
   "execution_count": 11,
   "id": "ca4c7503",
   "metadata": {
    "execution": {
     "iopub.execute_input": "2023-12-02T22:45:30.923966Z",
     "iopub.status.busy": "2023-12-02T22:45:30.923184Z",
     "iopub.status.idle": "2023-12-02T22:45:31.763691Z",
     "shell.execute_reply": "2023-12-02T22:45:31.762638Z"
    },
    "papermill": {
     "duration": 0.990035,
     "end_time": "2023-12-02T22:45:31.766445",
     "exception": false,
     "start_time": "2023-12-02T22:45:30.776410",
     "status": "completed"
    },
    "tags": []
   },
   "outputs": [
    {
     "name": "stdout",
     "output_type": "stream",
     "text": [
      "217/217 [==============================] - 0s 1ms/step\n"
     ]
    }
   ],
   "source": [
    "test['Hardness_pred'] = model_lgbm.predict(test.astype('float32').drop(columns='id'))\n",
    "ss[\"Hardness\"] = model_nn.predict(test.astype('float32').drop(columns='id'))\n",
    "#ss = test[['id', \"Hardness\"]]\n",
    "#ss.Hardness = test['Hardness']\n",
    "ss.to_csv(\"submission.csv\", index=False)"
   ]
  },
  {
   "cell_type": "code",
   "execution_count": 12,
   "id": "afbfceaf",
   "metadata": {
    "execution": {
     "iopub.execute_input": "2023-12-02T22:45:31.925849Z",
     "iopub.status.busy": "2023-12-02T22:45:31.925058Z",
     "iopub.status.idle": "2023-12-02T22:45:31.947218Z",
     "shell.execute_reply": "2023-12-02T22:45:31.946030Z"
    },
    "papermill": {
     "duration": 0.104378,
     "end_time": "2023-12-02T22:45:31.949409",
     "exception": false,
     "start_time": "2023-12-02T22:45:31.845031",
     "status": "completed"
    },
    "tags": []
   },
   "outputs": [
    {
     "data": {
      "text/html": [
       "<div>\n",
       "<style scoped>\n",
       "    .dataframe tbody tr th:only-of-type {\n",
       "        vertical-align: middle;\n",
       "    }\n",
       "\n",
       "    .dataframe tbody tr th {\n",
       "        vertical-align: top;\n",
       "    }\n",
       "\n",
       "    .dataframe thead th {\n",
       "        text-align: right;\n",
       "    }\n",
       "</style>\n",
       "<table border=\"1\" class=\"dataframe\">\n",
       "  <thead>\n",
       "    <tr style=\"text-align: right;\">\n",
       "      <th></th>\n",
       "      <th>id</th>\n",
       "      <th>allelectrons_Total</th>\n",
       "      <th>density_Total</th>\n",
       "      <th>allelectrons_Average</th>\n",
       "      <th>val_e_Average</th>\n",
       "      <th>atomicweight_Average</th>\n",
       "      <th>ionenergy_Average</th>\n",
       "      <th>el_neg_chi_Average</th>\n",
       "      <th>R_vdw_element_Average</th>\n",
       "      <th>R_cov_element_Average</th>\n",
       "      <th>zaratio_Average</th>\n",
       "      <th>density_Average</th>\n",
       "      <th>Hardness_pred</th>\n",
       "    </tr>\n",
       "  </thead>\n",
       "  <tbody>\n",
       "    <tr>\n",
       "      <th>0</th>\n",
       "      <td>10407</td>\n",
       "      <td>884.0</td>\n",
       "      <td>121.420000</td>\n",
       "      <td>35.36</td>\n",
       "      <td>5.28</td>\n",
       "      <td>82.561240</td>\n",
       "      <td>9.370384</td>\n",
       "      <td>2.298</td>\n",
       "      <td>1.9072</td>\n",
       "      <td>1.200000</td>\n",
       "      <td>0.461899</td>\n",
       "      <td>1.79459</td>\n",
       "      <td>2.846999</td>\n",
       "    </tr>\n",
       "    <tr>\n",
       "      <th>1</th>\n",
       "      <td>10408</td>\n",
       "      <td>90.0</td>\n",
       "      <td>9.931960</td>\n",
       "      <td>18.00</td>\n",
       "      <td>5.60</td>\n",
       "      <td>39.568056</td>\n",
       "      <td>12.086300</td>\n",
       "      <td>2.868</td>\n",
       "      <td>1.6520</td>\n",
       "      <td>0.864000</td>\n",
       "      <td>0.476196</td>\n",
       "      <td>1.41194</td>\n",
       "      <td>2.509377</td>\n",
       "    </tr>\n",
       "    <tr>\n",
       "      <th>2</th>\n",
       "      <td>10409</td>\n",
       "      <td>116.0</td>\n",
       "      <td>7.767992</td>\n",
       "      <td>11.60</td>\n",
       "      <td>4.80</td>\n",
       "      <td>23.231818</td>\n",
       "      <td>11.023840</td>\n",
       "      <td>2.644</td>\n",
       "      <td>1.7940</td>\n",
       "      <td>0.960000</td>\n",
       "      <td>0.499514</td>\n",
       "      <td>0.78834</td>\n",
       "      <td>5.989584</td>\n",
       "    </tr>\n",
       "    <tr>\n",
       "      <th>3</th>\n",
       "      <td>10410</td>\n",
       "      <td>100.0</td>\n",
       "      <td>9.107996</td>\n",
       "      <td>10.00</td>\n",
       "      <td>4.80</td>\n",
       "      <td>20.298893</td>\n",
       "      <td>12.086300</td>\n",
       "      <td>2.828</td>\n",
       "      <td>1.6620</td>\n",
       "      <td>0.792000</td>\n",
       "      <td>0.495796</td>\n",
       "      <td>1.20466</td>\n",
       "      <td>4.191429</td>\n",
       "    </tr>\n",
       "    <tr>\n",
       "      <th>4</th>\n",
       "      <td>10411</td>\n",
       "      <td>55.0</td>\n",
       "      <td>4.030000</td>\n",
       "      <td>11.00</td>\n",
       "      <td>4.00</td>\n",
       "      <td>22.977675</td>\n",
       "      <td>11.280950</td>\n",
       "      <td>2.455</td>\n",
       "      <td>1.7500</td>\n",
       "      <td>0.893333</td>\n",
       "      <td>0.476095</td>\n",
       "      <td>0.93456</td>\n",
       "      <td>5.282616</td>\n",
       "    </tr>\n",
       "  </tbody>\n",
       "</table>\n",
       "</div>"
      ],
      "text/plain": [
       "      id  allelectrons_Total  density_Total  allelectrons_Average  \\\n",
       "0  10407               884.0     121.420000                 35.36   \n",
       "1  10408                90.0       9.931960                 18.00   \n",
       "2  10409               116.0       7.767992                 11.60   \n",
       "3  10410               100.0       9.107996                 10.00   \n",
       "4  10411                55.0       4.030000                 11.00   \n",
       "\n",
       "   val_e_Average  atomicweight_Average  ionenergy_Average  el_neg_chi_Average  \\\n",
       "0           5.28             82.561240           9.370384               2.298   \n",
       "1           5.60             39.568056          12.086300               2.868   \n",
       "2           4.80             23.231818          11.023840               2.644   \n",
       "3           4.80             20.298893          12.086300               2.828   \n",
       "4           4.00             22.977675          11.280950               2.455   \n",
       "\n",
       "   R_vdw_element_Average  R_cov_element_Average  zaratio_Average  \\\n",
       "0                 1.9072               1.200000         0.461899   \n",
       "1                 1.6520               0.864000         0.476196   \n",
       "2                 1.7940               0.960000         0.499514   \n",
       "3                 1.6620               0.792000         0.495796   \n",
       "4                 1.7500               0.893333         0.476095   \n",
       "\n",
       "   density_Average  Hardness_pred  \n",
       "0          1.79459       2.846999  \n",
       "1          1.41194       2.509377  \n",
       "2          0.78834       5.989584  \n",
       "3          1.20466       4.191429  \n",
       "4          0.93456       5.282616  "
      ]
     },
     "execution_count": 12,
     "metadata": {},
     "output_type": "execute_result"
    }
   ],
   "source": [
    "test.head()"
   ]
  },
  {
   "cell_type": "code",
   "execution_count": 13,
   "id": "871e73cc",
   "metadata": {
    "execution": {
     "iopub.execute_input": "2023-12-02T22:45:32.109558Z",
     "iopub.status.busy": "2023-12-02T22:45:32.108358Z",
     "iopub.status.idle": "2023-12-02T22:45:32.119249Z",
     "shell.execute_reply": "2023-12-02T22:45:32.118023Z"
    },
    "papermill": {
     "duration": 0.093062,
     "end_time": "2023-12-02T22:45:32.121616",
     "exception": false,
     "start_time": "2023-12-02T22:45:32.028554",
     "status": "completed"
    },
    "tags": []
   },
   "outputs": [
    {
     "data": {
      "text/html": [
       "<div>\n",
       "<style scoped>\n",
       "    .dataframe tbody tr th:only-of-type {\n",
       "        vertical-align: middle;\n",
       "    }\n",
       "\n",
       "    .dataframe tbody tr th {\n",
       "        vertical-align: top;\n",
       "    }\n",
       "\n",
       "    .dataframe thead th {\n",
       "        text-align: right;\n",
       "    }\n",
       "</style>\n",
       "<table border=\"1\" class=\"dataframe\">\n",
       "  <thead>\n",
       "    <tr style=\"text-align: right;\">\n",
       "      <th></th>\n",
       "      <th>id</th>\n",
       "      <th>Hardness</th>\n",
       "    </tr>\n",
       "  </thead>\n",
       "  <tbody>\n",
       "    <tr>\n",
       "      <th>0</th>\n",
       "      <td>10407</td>\n",
       "      <td>2.575260</td>\n",
       "    </tr>\n",
       "    <tr>\n",
       "      <th>1</th>\n",
       "      <td>10408</td>\n",
       "      <td>2.351657</td>\n",
       "    </tr>\n",
       "    <tr>\n",
       "      <th>2</th>\n",
       "      <td>10409</td>\n",
       "      <td>5.815323</td>\n",
       "    </tr>\n",
       "    <tr>\n",
       "      <th>3</th>\n",
       "      <td>10410</td>\n",
       "      <td>3.819762</td>\n",
       "    </tr>\n",
       "    <tr>\n",
       "      <th>4</th>\n",
       "      <td>10411</td>\n",
       "      <td>5.726339</td>\n",
       "    </tr>\n",
       "  </tbody>\n",
       "</table>\n",
       "</div>"
      ],
      "text/plain": [
       "      id  Hardness\n",
       "0  10407  2.575260\n",
       "1  10408  2.351657\n",
       "2  10409  5.815323\n",
       "3  10410  3.819762\n",
       "4  10411  5.726339"
      ]
     },
     "execution_count": 13,
     "metadata": {},
     "output_type": "execute_result"
    }
   ],
   "source": [
    "ss.head()"
   ]
  },
  {
   "cell_type": "code",
   "execution_count": 14,
   "id": "96c233a5",
   "metadata": {
    "execution": {
     "iopub.execute_input": "2023-12-02T22:45:32.281583Z",
     "iopub.status.busy": "2023-12-02T22:45:32.281143Z",
     "iopub.status.idle": "2023-12-02T22:45:32.584401Z",
     "shell.execute_reply": "2023-12-02T22:45:32.583384Z"
    },
    "papermill": {
     "duration": 0.385702,
     "end_time": "2023-12-02T22:45:32.586782",
     "exception": false,
     "start_time": "2023-12-02T22:45:32.201080",
     "status": "completed"
    },
    "tags": []
   },
   "outputs": [
    {
     "data": {
      "image/png": "[encoded data removed]",
      "text/plain": [
       "<Figure size 640x480 with 1 Axes>"
      ]
     },
     "metadata": {},
     "output_type": "display_data"
    }
   ],
   "source": [
    "plt.hist(ss.Hardness,bins=50)\n",
    "plt.show()"
   ]
  },
  {
   "cell_type": "code",
   "execution_count": null,
   "id": "a1f4a368",
   "metadata": {
    "papermill": {
     "duration": 0.078879,
     "end_time": "2023-12-02T22:45:32.745183",
     "exception": false,
     "start_time": "2023-12-02T22:45:32.666304",
     "status": "completed"
    },
    "tags": []
   },
   "outputs": [],
   "source": []
  }
 ],
 "metadata": {
  "kaggle": {
   "accelerator": "none",
   "dataSources": [
    {
     "databundleVersionId": 6989718,
     "sourceId": 60892,
     "sourceType": "competition"
    }
   ],
   "dockerImageVersionId": 30587,
   "isGpuEnabled": false,
   "isInternetEnabled": true,
   "language": "python",
   "sourceType": "notebook"
  },
  "kernelspec": {
   "display_name": "Python 3",
   "language": "python",
   "name": "python3"
  },
  "language_info": {
   "codemirror_mode": {
    "name": "ipython",
    "version": 3
   },
   "file_extension": ".py",
   "mimetype": "text/x-python",
   "name": "python",
   "nbconvert_exporter": "python",
   "pygments_lexer": "ipython3",
   "version": "3.10.12"
  },
  "papermill": {
   "default_parameters": {},
   "duration": 110.353001,
   "end_time": "2023-12-02T22:45:35.450152",
   "environment_variables": {},
   "exception": null,
   "input_path": "__notebook__.ipynb",
   "output_path": "__notebook__.ipynb",
   "parameters": {},
   "start_time": "2023-12-02T22:43:45.097151",
   "version": "2.4.0"
  }
 },
 "nbformat": 4,
 "nbformat_minor": 5
}
